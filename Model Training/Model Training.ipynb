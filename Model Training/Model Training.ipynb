{
 "cells": [
  {
   "cell_type": "code",
   "execution_count": 1,
   "id": "813a316e",
   "metadata": {},
   "outputs": [],
   "source": [
    "import tensorflow as tf\n",
    "from tensorflow.keras.preprocessing.image import ImageDataGenerator\n",
    "from tensorflow.keras.applications import MobileNetV2\n",
    "from tensorflow.keras import layers, models\n",
    "import os"
   ]
  },
  {
   "cell_type": "code",
   "execution_count": 2,
   "id": "0913c6b7",
   "metadata": {},
   "outputs": [],
   "source": [
    "# Paths\n",
    "base_dir = \"../datasets\"\n",
    "train_dir = os.path.join(base_dir, \"train\")\n",
    "valid_dir = os.path.join(base_dir, \"valid\")\n",
    "test_dir  = os.path.join(base_dir, \"test\")"
   ]
  },
  {
   "cell_type": "code",
   "execution_count": null,
   "id": "aeec91ca",
   "metadata": {},
   "outputs": [
    {
     "name": "stdout",
     "output_type": "stream",
     "text": [
      "Found 8640 images belonging to 27 classes.\n",
      "Found 122 images belonging to 27 classes.\n",
      "Found 122 images belonging to 27 classes.\n"
     ]
    }
   ],
   "source": [
    "IMG_SIZE = (224, 224)\n",
    "BATCH_SIZE = 30\n",
    "\n",
    "# Data Augmentation\n",
    "train_datagen = ImageDataGenerator(\n",
    "    rescale=1./255,\n",
    "    rotation_range=20,\n",
    "    zoom_range=0.2,\n",
    "    width_shift_range=0.1,\n",
    "    height_shift_range=0.1,\n",
    "    horizontal_flip=True,\n",
    "    fill_mode='nearest'\n",
    ")\n",
    "\n",
    "valid_test_datagen = ImageDataGenerator(rescale=1./255)\n",
    "\n",
    "train_data = train_datagen.flow_from_directory(\n",
    "    train_dir, target_size=IMG_SIZE, batch_size=BATCH_SIZE, class_mode='categorical'\n",
    ")\n",
    "valid_data = valid_test_datagen.flow_from_directory(\n",
    "    valid_dir, target_size=IMG_SIZE, batch_size=BATCH_SIZE, class_mode='categorical'\n",
    ")\n",
    "test_data = valid_test_datagen.flow_from_directory(\n",
    "    test_dir, target_size=IMG_SIZE, batch_size=BATCH_SIZE, class_mode='categorical', shuffle=False\n",
    ")"
   ]
  },
  {
   "cell_type": "code",
   "execution_count": 4,
   "id": "b27ddec6",
   "metadata": {},
   "outputs": [],
   "source": [
    "# Load pretrained base\n",
    "base_model = MobileNetV2(input_shape=(*IMG_SIZE, 3), include_top=False, weights='imagenet')\n",
    "base_model.trainable = False  # Freeze all layers"
   ]
  },
  {
   "cell_type": "code",
   "execution_count": 5,
   "id": "f1d6e222",
   "metadata": {},
   "outputs": [],
   "source": [
    "# Build model\n",
    "model = models.Sequential([\n",
    "    base_model,\n",
    "    layers.GlobalAveragePooling2D(),\n",
    "    layers.Dense(128, activation='relu'),\n",
    "    layers.Dropout(0.3),\n",
    "    layers.Dense(train_data.num_classes, activation='softmax')\n",
    "])\n",
    "\n",
    "# Compile\n",
    "model.compile(optimizer='adam', loss='categorical_crossentropy', metrics=['accuracy'])"
   ]
  },
  {
   "cell_type": "code",
   "execution_count": null,
   "id": "eacb9e3d",
   "metadata": {},
   "outputs": [
    {
     "name": "stdout",
     "output_type": "stream",
     "text": [
      "Epoch 1/20\n",
      "475/540 [=========================>....] - ETA: 1:59 - loss: 1.6234 - accuracy: 0.5246"
     ]
    }
   ],
   "source": [
    "# Train\n",
    "EPOCHS = 20\n",
    "history = model.fit(train_data, epochs=EPOCHS, validation_data=valid_data)"
   ]
  },
  {
   "cell_type": "code",
   "execution_count": 10,
   "id": "a542710b",
   "metadata": {},
   "outputs": [
    {
     "name": "stdout",
     "output_type": "stream",
     "text": [
      "8/8 [==============================] - 4s 520ms/step - loss: 0.8981 - accuracy: 0.7459\n",
      "Test Accuracy: 74.59%\n"
     ]
    }
   ],
   "source": [
    "# Evaluate\n",
    "loss, acc = model.evaluate(test_data)\n",
    "print(f\"Test Accuracy: {acc * 100:.2f}%\")"
   ]
  },
  {
   "cell_type": "code",
   "execution_count": 11,
   "id": "e7a7a067",
   "metadata": {},
   "outputs": [],
   "source": [
    "\n",
    "# Save\n",
    "model.save(\"mudra_transfer_model74.h5\")"
   ]
  },
  {
   "cell_type": "code",
   "execution_count": 12,
   "id": "a8329066",
   "metadata": {},
   "outputs": [
    {
     "name": "stdout",
     "output_type": "stream",
     "text": [
      "Epoch 1/10\n",
      "18/18 [==============================] - 19s 896ms/step - loss: 2.1161 - accuracy: 0.4021 - val_loss: 1.0294 - val_accuracy: 0.7131\n",
      "Epoch 2/10\n",
      "18/18 [==============================] - 16s 867ms/step - loss: 1.6861 - accuracy: 0.5105 - val_loss: 1.0253 - val_accuracy: 0.7131\n",
      "Epoch 3/10\n",
      "18/18 [==============================] - 15s 836ms/step - loss: 1.4727 - accuracy: 0.5490 - val_loss: 1.0262 - val_accuracy: 0.7049\n",
      "Epoch 4/10\n",
      "18/18 [==============================] - 16s 901ms/step - loss: 1.3400 - accuracy: 0.5734 - val_loss: 1.0217 - val_accuracy: 0.7049\n",
      "Epoch 5/10\n",
      "18/18 [==============================] - 18s 995ms/step - loss: 1.1997 - accuracy: 0.6503 - val_loss: 1.0134 - val_accuracy: 0.7131\n",
      "Epoch 6/10\n",
      "18/18 [==============================] - 17s 971ms/step - loss: 1.0953 - accuracy: 0.6713 - val_loss: 1.0061 - val_accuracy: 0.7213\n",
      "Epoch 7/10\n",
      "18/18 [==============================] - 15s 855ms/step - loss: 1.0103 - accuracy: 0.6923 - val_loss: 1.0066 - val_accuracy: 0.7213\n",
      "Epoch 8/10\n",
      "18/18 [==============================] - 15s 866ms/step - loss: 0.8764 - accuracy: 0.7203 - val_loss: 1.0065 - val_accuracy: 0.7213\n",
      "Epoch 9/10\n",
      "18/18 [==============================] - 15s 868ms/step - loss: 0.8098 - accuracy: 0.7483 - val_loss: 1.0084 - val_accuracy: 0.7213\n",
      "Epoch 10/10\n",
      "18/18 [==============================] - 19s 1s/step - loss: 0.7465 - accuracy: 0.7797 - val_loss: 1.0134 - val_accuracy: 0.7131\n"
     ]
    }
   ],
   "source": [
    "# Fine-tune the model\n",
    "# Unfreeze last few layers\n",
    "base_model.trainable = True\n",
    "for layer in base_model.layers[:-30]:  # Freeze all except last 30 layers\n",
    "    layer.trainable = False\n",
    "\n",
    "# Recompile with a lower learning rate\n",
    "model.compile(optimizer=tf.keras.optimizers.Adam(1e-5),\n",
    "              loss='categorical_crossentropy',\n",
    "              metrics=['accuracy'])\n",
    "\n",
    "# Fine-tune\n",
    "fine_tune_epochs = 10\n",
    "history_finetune = model.fit(train_data,\n",
    "                             epochs=fine_tune_epochs,\n",
    "                             validation_data=valid_data)\n"
   ]
  },
  {
   "cell_type": "code",
   "execution_count": null,
   "id": "c1de38c1",
   "metadata": {},
   "outputs": [
    {
     "name": "stdout",
     "output_type": "stream",
     "text": [
      "8/8 [==============================] - 5s 613ms/step\n",
      "                  precision    recall  f1-score   support\n",
      "\n",
      "     10_Kabitham       1.00      1.00      1.00         6\n",
      "  11_Kadagamugam       0.71      0.83      0.77         6\n",
      "      12_Kangula       0.80      0.80      0.80         5\n",
      " 13_Katharimugam       0.00      0.00      0.00         2\n",
      "      14_Mayuram       0.50      0.75      0.60         4\n",
      " 15_Mirgachirsha       0.00      0.00      0.00         2\n",
      "      16_Mukulam       1.00      1.00      1.00         1\n",
      "       17_Mushti       1.00      0.43      0.60         7\n",
      "   18_Padmakosha       1.00      0.75      0.86         4\n",
      "     19_Pathakam       0.50      1.00      0.67         5\n",
      "     1_Alapadmam       1.00      0.50      0.67         4\n",
      "  20_Sarpashisha       1.00      0.88      0.93         8\n",
      "     21_Shikaram       0.60      1.00      0.75         6\n",
      " 22_Shukathundam       0.88      0.70      0.78        10\n",
      "   23_Simhamugha       0.00      0.00      0.00         1\n",
      "        24_Suchi       1.00      0.75      0.86         4\n",
      "25_Tamaraichulam       1.00      1.00      1.00         5\n",
      " 26_Thirpathakam       1.00      0.40      0.57         5\n",
      "    27_Trishulam       1.00      0.83      0.91         6\n",
      "        2_Aralam       0.57      0.57      0.57         7\n",
      "3_Artha chandran       1.00      0.75      0.86         4\n",
      " 4_Arthapathakam       0.25      0.33      0.29         3\n",
      "     5_Brahmaram       0.80      1.00      0.89         4\n",
      "   6_Chandrakala       0.57      0.67      0.62         6\n",
      "      7_Chaturam       0.50      0.50      0.50         2\n",
      "  8_Hamsapaksham       0.50      1.00      0.67         1\n",
      "    9_Hamsasiyam       0.75      0.75      0.75         4\n",
      "\n",
      "        accuracy                           0.72       122\n",
      "       macro avg       0.70      0.67      0.66       122\n",
      "    weighted avg       0.78      0.72      0.72       122\n",
      "\n"
     ]
    },
    {
     "name": "stderr",
     "output_type": "stream",
     "text": [
      "c:\\Users\\amrit\\.conda\\envs\\tf-gpu\\lib\\site-packages\\sklearn\\metrics\\_classification.py:1565: UndefinedMetricWarning: Precision is ill-defined and being set to 0.0 in labels with no predicted samples. Use `zero_division` parameter to control this behavior.\n",
      "  _warn_prf(average, modifier, f\"{metric.capitalize()} is\", len(result))\n",
      "c:\\Users\\amrit\\.conda\\envs\\tf-gpu\\lib\\site-packages\\sklearn\\metrics\\_classification.py:1565: UndefinedMetricWarning: Precision is ill-defined and being set to 0.0 in labels with no predicted samples. Use `zero_division` parameter to control this behavior.\n",
      "  _warn_prf(average, modifier, f\"{metric.capitalize()} is\", len(result))\n",
      "c:\\Users\\amrit\\.conda\\envs\\tf-gpu\\lib\\site-packages\\sklearn\\metrics\\_classification.py:1565: UndefinedMetricWarning: Precision is ill-defined and being set to 0.0 in labels with no predicted samples. Use `zero_division` parameter to control this behavior.\n",
      "  _warn_prf(average, modifier, f\"{metric.capitalize()} is\", len(result))\n"
     ]
    }
   ],
   "source": [
    "# Evaluate per-class accuracy\n",
    "import numpy as np\n",
    "from sklearn.metrics import classification_report\n",
    "\n",
    "Y_pred = model.predict(test_data)\n",
    "y_pred = np.argmax(Y_pred, axis=1)\n",
    "\n",
    "print(classification_report(test_data.classes, y_pred, target_names=list(test_data.class_indices.keys())))\n",
    "\n"
   ]
  },
  {
   "cell_type": "code",
   "execution_count": null,
   "id": "5baf80cd",
   "metadata": {},
   "outputs": [],
   "source": [
    "# Save class labels\n",
    "import json\n",
    "\n",
    "label_map = train_data.class_indices\n",
    "with open(\"mudra_labels.json\", \"w\") as f:\n",
    "    json.dump(label_map, f)\n"
   ]
  },
  {
   "cell_type": "code",
   "execution_count": null,
   "id": "b2a1f3c9",
   "metadata": {},
   "outputs": [],
   "source": []
  }
 ],
 "metadata": {
  "kernelspec": {
   "display_name": "tf-gpu",
   "language": "python",
   "name": "python3"
  },
  "language_info": {
   "codemirror_mode": {
    "name": "ipython",
    "version": 3
   },
   "file_extension": ".py",
   "mimetype": "text/x-python",
   "name": "python",
   "nbconvert_exporter": "python",
   "pygments_lexer": "ipython3",
   "version": "3.10.16"
  }
 },
 "nbformat": 4,
 "nbformat_minor": 5
}
